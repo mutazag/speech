{
 "cells": [
  {
   "cell_type": "code",
   "execution_count": 36,
   "id": "19db89f5",
   "metadata": {},
   "outputs": [
    {
     "name": "stdout",
     "output_type": "stream",
     "text": [
      "https://magcogserviceseastus.cognitiveservices.azure.com/\n"
     ]
    }
   ],
   "source": [
    "import os\n",
    "key = os.getenv('key')\n",
    "endpoint = os.getenv('endpoint')\n",
    "region = os.getenv('region')\n",
    "\n",
    "headers = {\n",
    "    'Ocp-Apim-Subscription-Key': key\n",
    "    }\n",
    "\n",
    "print(endpoint)"
   ]
  },
  {
   "cell_type": "code",
   "execution_count": 79,
   "id": "253eb1b4",
   "metadata": {},
   "outputs": [],
   "source": [
    "import requests\n",
    "import json\n",
    "from pydantic import BaseModel, Field\n",
    "from typing import List, Optional\n",
    "from datetime import datetime"
   ]
  },
  {
   "cell_type": "markdown",
   "id": "f538bd7d",
   "metadata": {},
   "source": [
    "# List Projects\n"
   ]
  },
  {
   "cell_type": "code",
   "execution_count": 38,
   "id": "9256d070",
   "metadata": {},
   "outputs": [
    {
     "name": "stdout",
     "output_type": "stream",
     "text": [
      "200\n",
      "{\n",
      "    \"value\": [\n",
      "        {\n",
      "            \"kind\": \"PersonalVoice\",\n",
      "            \"id\": \"test_project\",\n",
      "            \"displayName\": \"Updated Test personal voice\",\n",
      "            \"description\": \"Updated project description\",\n",
      "            \"createdDateTime\": \"2025-01-06T03:39:04.310Z\"\n",
      "        },\n",
      "        {\n",
      "            \"kind\": \"PersonalVoice\",\n",
      "            \"id\": \"14626eba-a659-4491-b80c-e067116e5592\",\n",
      "            \"displayName\": \"Default Trial Project - Kq5dfXs9Ab\",\n",
      "            \"description\": \"The default trial project for all trial resources.\",\n",
      "            \"createdDateTime\": \"2024-03-01T00:47:04.673Z\"\n",
      "        }\n",
      "    ]\n",
      "}\n"
     ]
    }
   ],
   "source": [
    "# print(headers)\n",
    "# Define the URL for the GET request\n",
    "projects_url = f\"{endpoint}/customvoice/projects?api-version=2024-02-01-preview\"\n",
    "\n",
    "# Make the GET request\n",
    "projects_response = requests.get(projects_url, headers=headers)\n",
    "\n",
    "# Print the response\n",
    "print(projects_response.status_code)\n",
    "print(json.dumps(projects_response.json(), indent=4))"
   ]
  },
  {
   "cell_type": "code",
   "execution_count": null,
   "id": "896210a1",
   "metadata": {},
   "outputs": [],
   "source": [
    "class Project(BaseModel):\n",
    "    kind: str\n",
    "    id: str\n",
    "    displayName: str\n",
    "    description: Optional[str]\n",
    "    createdDateTime: datetime\n",
    "\n",
    "\n",
    "    class Config:\n",
    "        # This tells Pydantic to use compatible JSON encoders/decoders\n",
    "        json_encoders = {\n",
    "            datetime: lambda v: v.isoformat()\n",
    "        }\n",
    "\n",
    "class ProjectsList(BaseModel):\n",
    "    voices: List[Project] = Field(alias='value')\n",
    "\n"
   ]
  },
  {
   "cell_type": "code",
   "execution_count": 85,
   "id": "a578cae6",
   "metadata": {},
   "outputs": [],
   "source": [
    "projects = ProjectsList.model_validate(projects_response.json())"
   ]
  },
  {
   "cell_type": "code",
   "execution_count": 86,
   "id": "0f91ee23",
   "metadata": {},
   "outputs": [],
   "source": [
    "# projects = [\n",
    "#     (project.get('id'), project.get('displayName'))\n",
    "#     for project in projects_response.json()['value']\n",
    "# ]\n",
    "\n",
    "\n"
   ]
  },
  {
   "cell_type": "code",
   "execution_count": 87,
   "id": "08ac5b30",
   "metadata": {},
   "outputs": [
    {
     "name": "stderr",
     "output_type": "stream",
     "text": [
      "C:\\Users\\mutaza\\AppData\\Local\\Temp\\ipykernel_35604\\2753564042.py:1: PydanticDeprecatedSince20: The `dict` method is deprecated; use `model_dump` instead. Deprecated in Pydantic V2.0 to be removed in V3.0. See Pydantic V2 Migration Guide at https://errors.pydantic.dev/2.10/migration/\n",
      "  projects.dict()\n"
     ]
    },
    {
     "data": {
      "text/plain": [
       "{'voices': [{'kind': 'PersonalVoice',\n",
       "   'id': 'test_project',\n",
       "   'displayName': 'Updated Test personal voice',\n",
       "   'description': 'Updated project description',\n",
       "   'createdDateTime': datetime.datetime(2025, 1, 6, 3, 39, 4, 310000, tzinfo=TzInfo(UTC))},\n",
       "  {'kind': 'PersonalVoice',\n",
       "   'id': '14626eba-a659-4491-b80c-e067116e5592',\n",
       "   'displayName': 'Default Trial Project - Kq5dfXs9Ab',\n",
       "   'description': 'The default trial project for all trial resources.',\n",
       "   'createdDateTime': datetime.datetime(2024, 3, 1, 0, 47, 4, 673000, tzinfo=TzInfo(UTC))}]}"
      ]
     },
     "execution_count": 87,
     "metadata": {},
     "output_type": "execute_result"
    }
   ],
   "source": [
    "projects.dict()"
   ]
  },
  {
   "cell_type": "markdown",
   "id": "cf0ef578",
   "metadata": {},
   "source": [
    "# list voice talents"
   ]
  },
  {
   "cell_type": "code",
   "execution_count": 88,
   "id": "abf17527",
   "metadata": {},
   "outputs": [
    {
     "name": "stdout",
     "output_type": "stream",
     "text": [
      "200\n",
      "{\n",
      "    \"value\": [\n",
      "        {\n",
      "            \"voiceTalentName\": \"Mutaz Abu Ghazaleh\",\n",
      "            \"companyName\": \"Microsoft\",\n",
      "            \"locale\": \"en-US\",\n",
      "            \"projectId\": \"test_project\",\n",
      "            \"status\": \"Succeeded\",\n",
      "            \"lastActionDateTime\": \"2025-01-09T22:18:02.130Z\",\n",
      "            \"id\": \"MutazAbuGhazaleh_1e93fcc6d89240409e85b12adc66ceec\",\n",
      "            \"displayName\": \"MutazAbuGhazaleh_1e93fcc6d89240409e85b12adc66ceec\",\n",
      "            \"description\": \"Consent for Mutaz Abu Ghazaleh\",\n",
      "            \"createdDateTime\": \"2025-01-09T22:17:59.723Z\"\n",
      "        },\n",
      "        {\n",
      "            \"voiceTalentName\": \"Mutaz Abu Ghazaleh\",\n",
      "            \"companyName\": \"Microsoft\",\n",
      "            \"locale\": \"en-US\",\n",
      "            \"projectId\": \"test_project\",\n",
      "            \"status\": \"Succeeded\",\n",
      "            \"lastActionDateTime\": \"2025-01-07T05:38:37.607Z\",\n",
      "            \"id\": \"MutazAbuGhazaleh_3988519509b0414b96432786ace6e408\",\n",
      "            \"displayName\": \"MutazAbuGhazaleh_3988519509b0414b96432786ace6e408\",\n",
      "            \"description\": \"Consent for Mutaz Abu Ghazaleh\",\n",
      "            \"createdDateTime\": \"2025-01-07T05:38:33.950Z\"\n",
      "        }\n",
      "    ]\n",
      "}\n"
     ]
    }
   ],
   "source": [
    "# Define the URL for the GET request to list consents\n",
    "list_consents_url = f\"{endpoint}/customvoice/consents?api-version=2024-02-01-preview\"\n",
    "\n",
    "# Make the GET request\n",
    "list_consents_response = requests.get(list_consents_url, headers=headers)\n",
    "\n",
    "# Print the response\n",
    "print(list_consents_response.status_code)\n",
    "print(json.dumps(list_consents_response.json(), indent=4))"
   ]
  },
  {
   "cell_type": "code",
   "execution_count": 89,
   "id": "be3e193d",
   "metadata": {},
   "outputs": [
    {
     "name": "stdout",
     "output_type": "stream",
     "text": [
      "MutazAbuGhazaleh_1e93fcc6d89240409e85b12adc66ceec\n",
      "consent id (voice talent id):  MutazAbuGhazaleh_1e93fcc6d89240409e85b12adc66ceec\n",
      "consent id (voice talent id):  MutazAbuGhazaleh_3988519509b0414b96432786ace6e408\n"
     ]
    }
   ],
   "source": [
    "voice_talents =  list_consents_response.json()['value']\n",
    "print(voice_talents[0]['id'])\n",
    "\n",
    "for voice_talent in voice_talents:\n",
    "    print(\"consent id (voice talent id): \", voice_talent['id'])"
   ]
  },
  {
   "cell_type": "code",
   "execution_count": 97,
   "id": "66492684",
   "metadata": {},
   "outputs": [],
   "source": [
    "class VoiceTalent(BaseModel):\n",
    "    voiceTalentName: str\n",
    "    companyName: str\n",
    "    locale: str\n",
    "    projectId: str\n",
    "    status: str\n",
    "\n",
    "\n",
    "    id: str\n",
    "    displayName: str\n",
    "    description: Optional[str]\n",
    "\n",
    "    createdDateTime: datetime\n",
    "    lastActionDateTime: datetime\n",
    "\n",
    "    class Config:\n",
    "        # This tells Pydantic to use compatible JSON encoders/decoders\n",
    "        json_encoders = {\n",
    "            datetime: lambda v: v.isoformat()\n",
    "        }\n",
    "\n",
    "class VoiceTalentsList(BaseModel):\n",
    "    talentConsents: List[VoiceTalent] = Field(alias='value')"
   ]
  },
  {
   "cell_type": "code",
   "execution_count": 98,
   "id": "549d0d2c",
   "metadata": {},
   "outputs": [],
   "source": [
    "voice_talents = VoiceTalentsList.model_validate(list_consents_response.json())"
   ]
  },
  {
   "cell_type": "code",
   "execution_count": 99,
   "id": "36fb1727",
   "metadata": {},
   "outputs": [
    {
     "name": "stdout",
     "output_type": "stream",
     "text": [
      "{'voiceTalentName': 'Mutaz Abu Ghazaleh', 'companyName': 'Microsoft', 'locale': 'en-US', 'projectId': 'test_project', 'status': 'Succeeded', 'id': 'MutazAbuGhazaleh_1e93fcc6d89240409e85b12adc66ceec', 'displayName': 'MutazAbuGhazaleh_1e93fcc6d89240409e85b12adc66ceec', 'description': 'Consent for Mutaz Abu Ghazaleh', 'createdDateTime': datetime.datetime(2025, 1, 9, 22, 17, 59, 723000, tzinfo=TzInfo(UTC)), 'lastActionDateTime': datetime.datetime(2025, 1, 9, 22, 18, 2, 130000, tzinfo=TzInfo(UTC))}\n"
     ]
    }
   ],
   "source": [
    "print(voice_talents.talentConsents[0].model_dump())"
   ]
  },
  {
   "cell_type": "markdown",
   "id": "bb88e66f",
   "metadata": {},
   "source": [
    "# List Personal Voices"
   ]
  },
  {
   "cell_type": "code",
   "execution_count": 45,
   "id": "e7c3b041",
   "metadata": {},
   "outputs": [
    {
     "name": "stdout",
     "output_type": "stream",
     "text": [
      "200\n",
      "{\n",
      "    \"value\": [\n",
      "        {\n",
      "            \"projectId\": \"test_project\",\n",
      "            \"consentId\": \"MutazAbuGhazaleh_3988519509b0414b96432786ace6e408\",\n",
      "            \"speakerProfileId\": \"78eb9fcd-f9d8-4064-a24e-34d414a40f89\",\n",
      "            \"status\": \"Succeeded\",\n",
      "            \"lastActionDateTime\": \"2025-01-07T05:39:19.843Z\",\n",
      "            \"id\": \"MutazAbuGhazaleh_3988519509b0414b96432786ace6e408_profile\",\n",
      "            \"displayName\": \"MutazAbuGhazaleh_3988519509b0414b96432786ace6e408_profile\",\n",
      "            \"createdDateTime\": \"2025-01-07T05:39:13.083Z\"\n",
      "        }\n",
      "    ]\n",
      "}\n"
     ]
    }
   ],
   "source": [
    "# Define the URL for the GET request to list personal voices\n",
    "list_personal_voices_url = f\"{endpoint}/customvoice/personalvoices?api-version=2024-02-01-preview\"\n",
    "\n",
    "# Make the GET request\n",
    "list_personal_voices_response = requests.get(list_personal_voices_url, headers=headers)\n",
    "\n",
    "# Print the response\n",
    "print(list_personal_voices_response.status_code)\n",
    "print(json.dumps(list_personal_voices_response.json(), indent=4))"
   ]
  },
  {
   "cell_type": "code",
   "execution_count": 46,
   "id": "18d2e6c9",
   "metadata": {},
   "outputs": [
    {
     "data": {
      "text/plain": [
       "[('MutazAbuGhazaleh_3988519509b0414b96432786ace6e408_profile', 'test_project')]"
      ]
     },
     "execution_count": 46,
     "metadata": {},
     "output_type": "execute_result"
    }
   ],
   "source": [
    "\n",
    "[\n",
    "    (personal_voice['id'], personal_voice['projectId'])\n",
    "    for personal_voice in list_personal_voices_response.json()['value']\n",
    "    if personal_voice['status'] == 'Succeeded'\n",
    "]"
   ]
  },
  {
   "cell_type": "code",
   "execution_count": 106,
   "id": "58ff1291",
   "metadata": {},
   "outputs": [],
   "source": [
    "\n",
    "class PersonalVoice(BaseModel):\n",
    "    projectId: str\n",
    "    consentId: str\n",
    "    speakerProfileId: str\n",
    "    status: str\n",
    "    id: str\n",
    "    displayName: str\n",
    "    createdDateTime: datetime\n",
    "    lastActionDateTime: datetime\n",
    "\n",
    "    class Config:\n",
    "        # This tells Pydantic to use compatible JSON encoders/decoders\n",
    "        json_encoders = {\n",
    "            datetime: lambda v: v.isoformat()\n",
    "        }\n",
    "\n",
    "\n",
    "class PersonalVoiceList(BaseModel):\n",
    "    speakerVoices: List[PersonalVoice] = Field(alias='value')\n",
    "\n"
   ]
  },
  {
   "cell_type": "code",
   "execution_count": 107,
   "id": "4c6cac4b",
   "metadata": {},
   "outputs": [
    {
     "data": {
      "text/plain": [
       "PersonalVoice(projectId='test_project', consentId='MutazAbuGhazaleh_3988519509b0414b96432786ace6e408', speakerProfileId='78eb9fcd-f9d8-4064-a24e-34d414a40f89', status='Succeeded', id='MutazAbuGhazaleh_3988519509b0414b96432786ace6e408_profile', displayName='MutazAbuGhazaleh_3988519509b0414b96432786ace6e408_profile', createdDateTime=datetime.datetime(2025, 1, 7, 5, 39, 13, 83000, tzinfo=TzInfo(UTC)), lastActionDateTime=datetime.datetime(2025, 1, 7, 5, 39, 19, 843000, tzinfo=TzInfo(UTC)))"
      ]
     },
     "execution_count": 107,
     "metadata": {},
     "output_type": "execute_result"
    }
   ],
   "source": [
    "PersonalVoice.model_validate(list_personal_voices_response.json()['value'][0])"
   ]
  },
  {
   "cell_type": "code",
   "execution_count": 108,
   "id": "be6d6bb6",
   "metadata": {},
   "outputs": [],
   "source": [
    "speakerVoices = PersonalVoiceList.model_validate(list_personal_voices_response.json())"
   ]
  },
  {
   "cell_type": "code",
   "execution_count": null,
   "id": "95f2382b",
   "metadata": {},
   "outputs": [],
   "source": [
    "# personal_voices = [\n",
    "#     PersonalVoice.model_validate(personal_voice)\n",
    "#     for personal_voice in list_personal_voices_response.json()['value']\n",
    "#     if personal_voice['status'] == 'Succeeded'\n",
    "# ]\n",
    "\n",
    "# personal_voices[0].speakerProfileId\n"
   ]
  },
  {
   "cell_type": "code",
   "execution_count": 110,
   "id": "6b0cb694",
   "metadata": {},
   "outputs": [
    {
     "data": {
      "text/plain": [
       "[PersonalVoice(projectId='test_project', consentId='MutazAbuGhazaleh_3988519509b0414b96432786ace6e408', speakerProfileId='78eb9fcd-f9d8-4064-a24e-34d414a40f89', status='Succeeded', id='MutazAbuGhazaleh_3988519509b0414b96432786ace6e408_profile', displayName='MutazAbuGhazaleh_3988519509b0414b96432786ace6e408_profile', createdDateTime=datetime.datetime(2025, 1, 7, 5, 39, 13, 83000, tzinfo=TzInfo(UTC)), lastActionDateTime=datetime.datetime(2025, 1, 7, 5, 39, 19, 843000, tzinfo=TzInfo(UTC)))]"
      ]
     },
     "execution_count": 110,
     "metadata": {},
     "output_type": "execute_result"
    }
   ],
   "source": [
    "[speaker for speaker in speakerVoices.speakerVoices if speaker.status == 'Succeeded']"
   ]
  }
 ],
 "metadata": {
  "kernelspec": {
   "display_name": ".venv",
   "language": "python",
   "name": "python3"
  },
  "language_info": {
   "codemirror_mode": {
    "name": "ipython",
    "version": 3
   },
   "file_extension": ".py",
   "mimetype": "text/x-python",
   "name": "python",
   "nbconvert_exporter": "python",
   "pygments_lexer": "ipython3",
   "version": "3.10.11"
  }
 },
 "nbformat": 4,
 "nbformat_minor": 5
}
