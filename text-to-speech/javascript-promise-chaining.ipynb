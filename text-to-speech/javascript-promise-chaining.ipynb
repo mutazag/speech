{
 "cells": [
  {
   "cell_type": "markdown",
   "id": "24f34f99",
   "metadata": {},
   "source": [
    "# JavaScript Promise Patterns\n",
    "\n",
    "This notebook demonstrates different ways to handle asynchronous operations in JavaScript."
   ]
  },
  {
   "cell_type": "markdown",
   "id": "616a9663",
   "metadata": {},
   "source": [
    "## Promise Chaining with .then().catch()\n",
    "\n",
    "Using the `.then()` and `.catch()` pattern is a common way to handle promises:"
   ]
  },
  {
   "cell_type": "code",
   "execution_count": null,
   "id": "7255257a",
   "metadata": {
    "vscode": {
     "languageId": "javascript"
    }
   },
   "outputs": [],
   "source": [
    "// Example of Promise chaining with .then().catch()\n",
    "\n",
    "function fetchVoices(endpoint, apiKey) {\n",
    "    return fetch(`${endpoint}/customvoice/personalvoices?api-version=2024-02-01-preview`, {\n",
    "        method: 'GET',\n",
    "        headers: {\n",
    "            'Content-Type': 'application/json',\n",
    "            'Ocp-Apim-Subscription-Key': apiKey\n",
    "        }\n",
    "    })\n",
    "    .then(response => {\n",
    "        if (!response.ok) {\n",
    "            throw new Error(`HTTP error! Status: ${response.status}`);\n",
    "        }\n",
    "        return response.json();\n",
    "    })\n",
    "    .then(data => {\n",
    "        // Process the data\n",
    "        const successfulVoices = data.value.filter(voice => voice.status === 'Succeeded');\n",
    "        return successfulVoices;\n",
    "    })\n",
    "    .catch(error => {\n",
    "        console.error('Error fetching voices:', error);\n",
    "        return [];\n",
    "    });\n",
    "}"
   ]
  },
  {
   "cell_type": "markdown",
   "id": "3464c031",
   "metadata": {},
   "source": [
    "## Compared to Async/Await Pattern\n",
    "\n",
    "For comparison, here's how the same function would look using async/await:"
   ]
  },
  {
   "cell_type": "code",
   "execution_count": null,
   "id": "9c12e594",
   "metadata": {
    "vscode": {
     "languageId": "javascript"
    }
   },
   "outputs": [],
   "source": [
    "// Example of async/await pattern\n",
    "\n",
    "async function fetchVoicesAsync(endpoint, apiKey) {\n",
    "    try {\n",
    "        const response = await fetch(`${endpoint}/customvoice/personalvoices?api-version=2024-02-01-preview`, {\n",
    "            method: 'GET',\n",
    "            headers: {\n",
    "                'Content-Type': 'application/json',\n",
    "                'Ocp-Apim-Subscription-Key': apiKey\n",
    "            }\n",
    "        });\n",
    "\n",
    "        if (!response.ok) {\n",
    "            throw new Error(`HTTP error! Status: ${response.status}`);\n",
    "        }\n",
    "\n",
    "        const data = await response.json();\n",
    "        const successfulVoices = data.value.filter(voice => voice.status === 'Succeeded');\n",
    "        return successfulVoices;\n",
    "    } catch (error) {\n",
    "        console.error('Error fetching voices:', error);\n",
    "        return [];\n",
    "    }\n",
    "}"
   ]
  }
 ],
 "metadata": {
  "language_info": {
   "name": "python"
  }
 },
 "nbformat": 4,
 "nbformat_minor": 5
}
