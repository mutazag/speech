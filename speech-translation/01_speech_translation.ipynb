{
 "cells": [
  {
   "cell_type": "code",
   "execution_count": 1,
   "metadata": {},
   "outputs": [],
   "source": [
    "import os\n",
    "\n",
    "import azure.cognitiveservices.speech as speechsdk"
   ]
  },
  {
   "cell_type": "code",
   "execution_count": 2,
   "metadata": {},
   "outputs": [],
   "source": [
    "# loadnev the key and region from the environment variables\n",
    "\n",
    "from dotenv import load_dotenv\n",
    "\n",
    "load_dotenv() \n",
    "\n",
    "key = os.getenv('key')\n",
    "region = os.getenv('region')    \n",
    "resource = os.getenv('resource')\n",
    "endpoint = os.getenv('endpoint')"
   ]
  },
  {
   "cell_type": "code",
   "execution_count": 3,
   "metadata": {},
   "outputs": [],
   "source": [
    "speech_translation_config = speechsdk.translation.SpeechTranslationConfig(\n",
    "    subscription=key, region=region\n",
    ")\n",
    "\n",
    "speech_translation_config.speech_recognition_language = \"en-US\"\n",
    "\n",
    "to_language = \"ar\"\n",
    "speech_translation_config.add_target_language(to_language)\n",
    "speech_translation_config.add_target_language(\"hr\")\n",
    "speech_translation_config.add_target_language(\"de\")\n",
    "speech_translation_config.add_target_language(\"es\")\n",
    "\n",
    "speech_translation_config.voice_name=\"ar-JO-TaimNeural\"\n",
    "\n",
    "audio_config = speechsdk.audio.AudioConfig(use_default_microphone=True) \n",
    "\n",
    "translation_recognizer = speechsdk.translation.TranslationRecognizer(\n",
    "    translation_config=speech_translation_config, audio_config=audio_config\n",
    ")\n",
    "translation_recognizer.synthesizing.connect(lambda evt: print(\"Saying: {}\".format(evt.result.text)))"
   ]
  },
  {
   "cell_type": "code",
   "execution_count": 4,
   "metadata": {},
   "outputs": [
    {
     "name": "stdout",
     "output_type": "stream",
     "text": [
      "Say something...\n"
     ]
    }
   ],
   "source": [
    "print(\"Say something...\")\n",
    "\n",
    "# result = translation_recognizer.recognize_once_async().get() \n",
    "result = translation_recognizer.recognize_once() \n"
   ]
  },
  {
   "cell_type": "code",
   "execution_count": 5,
   "metadata": {},
   "outputs": [
    {
     "name": "stdout",
     "output_type": "stream",
     "text": [
      "Recognized: Hello there, how are you?\n",
      "Translated into ar: مرحبا بكم ، كيف حالك؟\n"
     ]
    }
   ],
   "source": [
    "if result.reason == speechsdk.ResultReason.TranslatedSpeech: \n",
    "    print(\"Recognized: {}\".format(result.text))\n",
    "    print(\"Translated into {}: {}\".format(to_language, result.translations[to_language]))"
   ]
  },
  {
   "cell_type": "code",
   "execution_count": 6,
   "metadata": {},
   "outputs": [
    {
     "name": "stdout",
     "output_type": "stream",
     "text": [
      "TranslationRecognitionResult(result_id=33971dace2b342f3898a435a4f7be4d3, translations={'ar': 'مرحبا بكم ، كيف حالك؟', 'hr': 'Pozdrav, kako ste?', 'de': 'Hallo, wie geht es dir?', 'es': 'Hola, ¿cómo estás?'}, reason=ResultReason.TranslatedSpeech)\n"
     ]
    }
   ],
   "source": [
    "print(result)"
   ]
  },
  {
   "cell_type": "code",
   "execution_count": 7,
   "metadata": {},
   "outputs": [
    {
     "data": {
      "text/plain": [
       "13600000"
      ]
     },
     "execution_count": 7,
     "metadata": {},
     "output_type": "execute_result"
    }
   ],
   "source": [
    "result.duration"
   ]
  },
  {
   "cell_type": "code",
   "execution_count": 8,
   "metadata": {},
   "outputs": [
    {
     "data": {
      "text/plain": [
       "{'ar': 'مرحبا بكم ، كيف حالك؟',\n",
       " 'hr': 'Pozdrav, kako ste?',\n",
       " 'de': 'Hallo, wie geht es dir?',\n",
       " 'es': 'Hola, ¿cómo estás?'}"
      ]
     },
     "execution_count": 8,
     "metadata": {},
     "output_type": "execute_result"
    }
   ],
   "source": [
    "result.translations"
   ]
  }
 ],
 "metadata": {
  "kernelspec": {
   "display_name": ".venv",
   "language": "python",
   "name": "python3"
  },
  "language_info": {
   "codemirror_mode": {
    "name": "ipython",
    "version": 3
   },
   "file_extension": ".py",
   "mimetype": "text/x-python",
   "name": "python",
   "nbconvert_exporter": "python",
   "pygments_lexer": "ipython3",
   "version": "3.10.11"
  }
 },
 "nbformat": 4,
 "nbformat_minor": 2
}
