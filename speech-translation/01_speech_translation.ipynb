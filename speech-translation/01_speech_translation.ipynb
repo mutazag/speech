{
 "cells": [
  {
   "cell_type": "code",
   "execution_count": 1,
   "metadata": {},
   "outputs": [],
   "source": [
    "import os\n",
    "\n",
    "import azure.cognitiveservices.speech as speechsdk"
   ]
  },
  {
   "cell_type": "code",
   "execution_count": 2,
   "metadata": {},
   "outputs": [],
   "source": [
    "# loadnev the key and region from the environment variables\n",
    "\n",
    "from dotenv import load_dotenv\n",
    "\n",
    "load_dotenv() \n",
    "\n",
    "key = os.getenv('KEY')\n",
    "region = os.getenv('REGION')    \n",
    "resource = os.getenv('RESOURCE')\n",
    "endpoint = os.getenv('ENDPOINT')"
   ]
  },
  {
   "cell_type": "code",
   "execution_count": 4,
   "metadata": {},
   "outputs": [],
   "source": [
    "speech_translation_config = speechsdk.translation.SpeechTranslationConfig(\n",
    "    subscription=key, region=region\n",
    ")\n",
    "\n",
    "speech_translation_config.speech_recognition_language = \"en-US\"\n",
    "\n",
    "to_language = \"ar\"\n",
    "speech_translation_config.add_target_language(to_language)\n",
    "speech_translation_config.add_target_language(\"hr\")\n",
    "speech_translation_config.add_target_language(\"de\")\n",
    "speech_translation_config.add_target_language(\"es\")\n",
    "\n",
    "\n",
    "\n",
    "audio_config = speechsdk.audio.AudioConfig(use_default_microphone=True) \n",
    "\n",
    "translation_recognizer = speechsdk.translation.TranslationRecognizer(\n",
    "    translation_config=speech_translation_config, audio_config=audio_config\n",
    ")"
   ]
  },
  {
   "cell_type": "code",
   "execution_count": 5,
   "metadata": {},
   "outputs": [
    {
     "name": "stdout",
     "output_type": "stream",
     "text": [
      "Say something...\n"
     ]
    }
   ],
   "source": [
    "print(\"Say something...\")\n",
    "\n",
    "result = translation_recognizer.recognize_once_async().get() \n",
    "\n"
   ]
  },
  {
   "cell_type": "code",
   "execution_count": 6,
   "metadata": {},
   "outputs": [
    {
     "name": "stdout",
     "output_type": "stream",
     "text": [
      "Recognized: Hello there.\n",
      "Translated into ar: مرحبًا بكم.\n"
     ]
    }
   ],
   "source": [
    "if result.reason == speechsdk.ResultReason.TranslatedSpeech: \n",
    "    print(\"Recognized: {}\".format(result.text))\n",
    "    print(\"Translated into {}: {}\".format(to_language, result.translations[to_language]))"
   ]
  },
  {
   "cell_type": "code",
   "execution_count": 7,
   "metadata": {},
   "outputs": [
    {
     "name": "stdout",
     "output_type": "stream",
     "text": [
      "TranslationRecognitionResult(result_id=ef8075b1f8864584a589bfee0425af53, translations={'ar': 'مرحبًا بكم.', 'hr': 'Hej.', 'de': 'Hallo.', 'es': 'Hola.'}, reason=ResultReason.TranslatedSpeech)\n"
     ]
    }
   ],
   "source": [
    "print(result)"
   ]
  },
  {
   "cell_type": "code",
   "execution_count": 8,
   "metadata": {},
   "outputs": [
    {
     "data": {
      "text/plain": [
       "12000000"
      ]
     },
     "execution_count": 8,
     "metadata": {},
     "output_type": "execute_result"
    }
   ],
   "source": [
    "result.duration"
   ]
  },
  {
   "cell_type": "code",
   "execution_count": 9,
   "metadata": {},
   "outputs": [
    {
     "data": {
      "text/plain": [
       "{'ar': 'مرحبًا بكم.', 'hr': 'Hej.', 'de': 'Hallo.', 'es': 'Hola.'}"
      ]
     },
     "execution_count": 9,
     "metadata": {},
     "output_type": "execute_result"
    }
   ],
   "source": [
    "result.translations"
   ]
  }
 ],
 "metadata": {
  "kernelspec": {
   "display_name": ".venv",
   "language": "python",
   "name": "python3"
  },
  "language_info": {
   "codemirror_mode": {
    "name": "ipython",
    "version": 3
   },
   "file_extension": ".py",
   "mimetype": "text/x-python",
   "name": "python",
   "nbconvert_exporter": "python",
   "pygments_lexer": "ipython3",
   "version": "3.10.11"
  }
 },
 "nbformat": 4,
 "nbformat_minor": 2
}
